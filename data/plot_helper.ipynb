{
 "cells": [
  {
   "cell_type": "code",
   "execution_count": 103,
   "metadata": {},
   "outputs": [],
   "source": [
    "import matplotlib.pyplot as plt\n",
    "import numpy as np\n",
    "\n",
    "from glob import glob\n",
    "\n",
    "%matplotlib inline"
   ]
  },
  {
   "cell_type": "code",
   "execution_count": 89,
   "metadata": {},
   "outputs": [],
   "source": [
    "with open('log.csv', 'w') as f:\n",
    "    f.write('percentage,infected_mean,infected_median,infected_max,infected_min,fatalities_mean,fatalities_median,fatalities_max,fatalities_min\\n')\n"
   ]
  },
  {
   "cell_type": "code",
   "execution_count": 90,
   "metadata": {},
   "outputs": [
    {
     "name": "stdout",
     "output_type": "stream",
     "text": [
      "101\n",
      "0.99\n",
      "101\n",
      "0.95\n",
      "101\n",
      "0.9\n",
      "101\n",
      "0.8\n",
      "101\n",
      "0.7\n",
      "101\n",
      "0.6\n",
      "101\n",
      "0.5\n",
      "101\n",
      "0.25\n",
      "101\n",
      "0.0\n"
     ]
    }
   ],
   "source": [
    "#First let's group all measurements per compliance percentage together\n",
    "def get_data(folders):\n",
    "    infected = []\n",
    "    fatalities = []\n",
    "    for f in folders:\n",
    "        inf = np.load('%s/infected.npy' %f)\n",
    "        fat = np.load('%s/fatalities.npy' %f)\n",
    "        infected.append(inf)\n",
    "        fatalities.append(fat)\n",
    "        \n",
    "    return np.asarray(infected), np.asarray(fatalities)\n",
    "        \n",
    "    \n",
    "def get_peaks(data):\n",
    "    peaks = np.zeros((len(data)))\n",
    "    for i in range(len(data)):\n",
    "        peaks[i] = np.mean(data[i])\n",
    "    \n",
    "    return peaks\n",
    "        \n",
    "\n",
    "def write_log(infected, fatalities, percentage):\n",
    "    f = open('log.csv', 'a')\n",
    "    f.write('%s,%f,%f,%f,%f,%f,%f,%f,%f\\n' %(percentage,np.mean(infected),np.median(infected),\n",
    "                                             np.max(infected), np.min(infected), np.mean(fatalities),\n",
    "                                             np.median(fatalities), np.max(fatalities), np.min(fatalities)))\n",
    "    f.close()\n",
    "\n",
    "percentages = ['0.99', '0.95', '0.9', '0.8', '0.7', '0.6', '0.5', '0.25', '0.0']\n",
    "\n",
    "for percentage in percentages:\n",
    "    f = glob('low_density/%s/*' %percentage)\n",
    "    print(len(f))\n",
    "    print(percentage)\n",
    "    infected, fatalities = get_data(f)\n",
    "    \n",
    "    #np.save('%s_infected.npy' %percentage, infected)\n",
    "    #np.save('%s_fatalities.npy' %percentage, fatalities)\n",
    "\n",
    "\n",
    "    infected = get_peaks(infected)\n",
    "    fatalities = get_peaks(fatalities)\n",
    "\n",
    "    write_log(infected, fatalities, percentage)"
   ]
  },
  {
   "cell_type": "code",
   "execution_count": null,
   "metadata": {},
   "outputs": [],
   "source": []
  },
  {
   "cell_type": "code",
   "execution_count": 124,
   "metadata": {},
   "outputs": [],
   "source": [
    "#zero pad\n",
    "def zero_pad(data):\n",
    "    max_size = 0\n",
    "    for d in data:\n",
    "        if len(d) > max_size:\n",
    "            max_size = len(d)\n",
    "\n",
    "    zero_padded = np.zeros((len(data), max_size))        \n",
    "    for i in range(len(data)):\n",
    "        data_pad = np.zeros((max_size,))\n",
    "        data_pad[0:len(data[i])] = data[i]\n",
    "        zero_padded[i] = data_pad\n",
    "        \n",
    "    return zero_padded\n",
    "\n",
    "\n",
    "percentages = ['0.99', '0.95', '0.9', '0.8', '0.7', '0.6', '0.5', '0.25', '0.0']\n",
    "\n",
    "for percentage in percentages:\n",
    "\n",
    "    f = glob('low_density/%s/*' %percentage)\n",
    "    infected, fatalities = get_data(f)\n",
    "    \n",
    "    infected_padded = zero_pad(infected)\n",
    "    fatalities_padded = zero_pad(fatalities)\n",
    "    \n",
    "    np.save('%s_infected.npy' %percentage, np.mean(infected_padded, axis=0))\n",
    "    np.save('%s_fatalities.npy' %percentage, np.mean(fatalities_padded, axis=0))"
   ]
  },
  {
   "cell_type": "code",
   "execution_count": 133,
   "metadata": {
    "scrolled": false
   },
   "outputs": [],
   "source": [
    "max_size = 0\n",
    "for infect in infected:\n",
    "    if len(infect) > max_size:\n",
    "        max_size = len(infect)\n",
    "        \n",
    "zero_padded = np.zeros((len(infected), max_size))        \n",
    "for i in range(len(infected)):\n",
    "    infected_pad = np.zeros((max_size,))\n",
    "    infected_pad[0:len(infected[i])] = infected[i]\n",
    "    zero_padded[i] = infected_pad"
   ]
  },
  {
   "cell_type": "code",
   "execution_count": 134,
   "metadata": {},
   "outputs": [
    {
     "data": {
      "text/plain": [
       "(2747,)"
      ]
     },
     "execution_count": 134,
     "metadata": {},
     "output_type": "execute_result"
    }
   ],
   "source": [
    "np.mean(zero_padded, axis=0).shape"
   ]
  },
  {
   "cell_type": "code",
   "execution_count": 135,
   "metadata": {},
   "outputs": [],
   "source": [
    "plt.plot(np.mean(zero_padded, axis=0))\n",
    "plt.show()"
   ]
  },
  {
   "cell_type": "code",
   "execution_count": null,
   "metadata": {},
   "outputs": [],
   "source": []
  },
  {
   "cell_type": "code",
   "execution_count": null,
   "metadata": {},
   "outputs": [],
   "source": []
  },
  {
   "cell_type": "code",
   "execution_count": null,
   "metadata": {},
   "outputs": [],
   "source": []
  },
  {
   "cell_type": "code",
   "execution_count": 140,
   "metadata": {},
   "outputs": [],
   "source": [
    "pop = 'low_density/'\n",
    "\n",
    "percentages = ['0.99', '0.95', '0.9', '0.8', '0.7', '0.6', '0.5', '0.25', '0.0']\n",
    "\n",
    "%matplotlib qt\n",
    "\n",
    "plt.figure(figsize=(12,8))\n",
    "plt.subplot(211)\n",
    "\n",
    "plt.title('effect of compliance to self-isolation on infections. Population density: low')\n",
    "plt.xlabel('simulation time steps')\n",
    "plt.ylabel('number of infected')\n",
    "plt.ylim(0, 2000)\n",
    "\n",
    "for percentage in percentages:\n",
    "    data = np.load('%s/%s_infected.npy' %(pop, percentage))\n",
    "    plt.plot(data, label = '%s, max_cases: %i' %(percentage, np.max(data)))\n",
    "    \n",
    "plt.legend()\n",
    "    \n",
    "plt.subplot(212)\n",
    "plt.title('effect of compliance to self-isolation on fatalities. Population density: low')\n",
    "plt.xlabel('simulation time steps')\n",
    "plt.ylabel('number of fatalities')\n",
    "plt.ylim(0, 220)\n",
    "\n",
    "for percentage in percentages:\n",
    "    data = np.load('%s/%s_fatalities.npy' %(pop, percentage))\n",
    "    plt.plot(np.cumsum(np.clip(np.diff(data), a_min=0, a_max=None)), label='%s, max fatalities: %i' %(percentage, np.max(data)))\n",
    "\n",
    "plt.legend()\n",
    "\n",
    "plt.tight_layout()\n",
    "plt.show()\n"
   ]
  },
  {
   "cell_type": "code",
   "execution_count": null,
   "metadata": {},
   "outputs": [],
   "source": []
  },
  {
   "cell_type": "code",
   "execution_count": 43,
   "metadata": {},
   "outputs": [],
   "source": []
  },
  {
   "cell_type": "code",
   "execution_count": null,
   "metadata": {},
   "outputs": [],
   "source": []
  },
  {
   "cell_type": "code",
   "execution_count": null,
   "metadata": {},
   "outputs": [],
   "source": []
  },
  {
   "cell_type": "code",
   "execution_count": null,
   "metadata": {},
   "outputs": [],
   "source": []
  },
  {
   "cell_type": "code",
   "execution_count": null,
   "metadata": {},
   "outputs": [],
   "source": []
  },
  {
   "cell_type": "code",
   "execution_count": null,
   "metadata": {},
   "outputs": [],
   "source": []
  },
  {
   "cell_type": "code",
   "execution_count": null,
   "metadata": {},
   "outputs": [],
   "source": []
  },
  {
   "cell_type": "code",
   "execution_count": null,
   "metadata": {},
   "outputs": [],
   "source": []
  }
 ],
 "metadata": {
  "kernelspec": {
   "display_name": "Python 3",
   "language": "python",
   "name": "python3"
  },
  "language_info": {
   "codemirror_mode": {
    "name": "ipython",
    "version": 3
   },
   "file_extension": ".py",
   "mimetype": "text/x-python",
   "name": "python",
   "nbconvert_exporter": "python",
   "pygments_lexer": "ipython3",
   "version": "3.7.5"
  }
 },
 "nbformat": 4,
 "nbformat_minor": 2
}
